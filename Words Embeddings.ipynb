{
 "cells": [
  {
   "cell_type": "code",
   "execution_count": 6,
   "metadata": {
    "ExecuteTime": {
     "end_time": "2017-04-28T11:45:48.247763",
     "start_time": "2017-04-28T11:45:48.226761"
    },
    "collapsed": true
   },
   "outputs": [],
   "source": [
    "# Basic libraries import\n",
    "import numpy as np\n",
    "import pandas as pd\n",
    "import seaborn as sns\n",
    "import gensim, logging\n",
    "\n",
    "# Plotting\n",
    "%matplotlib notebook\n",
    "%matplotlib inline\n",
    "\n",
    "sns.set_context(\"notebook\", font_scale=1.5)\n",
    "\n",
    "logging.basicConfig(format='%(asctime)s : %(levelname)s : %(message)s', level=logging.INFO)"
   ]
  },
  {
   "cell_type": "markdown",
   "metadata": {},
   "source": [
    "# Intro\n",
    "This notebook explores words embeddings.\n",
    "\n",
    "A first test is done on Word2Vec using Gensim\n",
    "\n",
    "**Resources**\n",
    "\n",
    "* https://rare-technologies.com/word2vec-tutorial/\n",
    "* https://radimrehurek.com/gensim/models/word2vec.html"
   ]
  },
  {
   "cell_type": "markdown",
   "metadata": {},
   "source": [
    "# Prepare Data"
   ]
  },
  {
   "cell_type": "code",
   "execution_count": 4,
   "metadata": {
    "ExecuteTime": {
     "end_time": "2017-04-28T11:45:19.826137",
     "start_time": "2017-04-28T11:45:19.816136"
    },
    "collapsed": true
   },
   "outputs": [],
   "source": [
    "sentences = [\"A brown fox jumped on the lazy dog\", \n",
    "            \"A brown fox jumped on the brown duck\",\n",
    "            \"A brown fox jumped on the lazy elephant\",\n",
    "            \"An elephant is eating green grass near the alpaca\",\n",
    "            \"A green alpaca tried to jump over an elephant\",\n",
    "            \"May you rest in a deep and dreamless slumber\"]"
   ]
  },
  {
   "cell_type": "markdown",
   "metadata": {},
   "source": [
    "# Train Word2Vec"
   ]
  },
  {
   "cell_type": "code",
   "execution_count": 10,
   "metadata": {
    "ExecuteTime": {
     "end_time": "2017-04-28T12:10:48.992600",
     "start_time": "2017-04-28T12:10:48.983600"
    },
    "collapsed": true
   },
   "outputs": [],
   "source": [
    "# parameters\n",
    "size = 200    # size of NN layers, corresponding to word vector dimensionality                      \n",
    "min_count = 1   # minimum word count in order to consider such word                        \n",
    "workers = 4       # number of threads to run in parallel (only effect if you have Cython installed)\n",
    "window = 10          # Context window size                                                                                    \n",
    "downsampling = 1e-3   # Downsample setting for frequent words"
   ]
  },
  {
   "cell_type": "code",
   "execution_count": 12,
   "metadata": {
    "ExecuteTime": {
     "end_time": "2017-04-28T12:12:08.860169",
     "start_time": "2017-04-28T12:12:08.841167"
    },
    "collapsed": false
   },
   "outputs": [
    {
     "name": "stdout",
     "output_type": "stream",
     "text": [
      "Training model...\n"
     ]
    }
   ],
   "source": [
    "print(\"Training model...\")\n",
    "model = gensim.models.Word2Vec([s.split() for s in sentences],\n",
    "                              workers=workers, \n",
    "            size=size, min_count = min_count, \n",
    "            window = window, sample = downsampling)"
   ]
  },
  {
   "cell_type": "code",
   "execution_count": null,
   "metadata": {
    "collapsed": true
   },
   "outputs": [],
   "source": [
    "# If you don't plan to train the model any further, calling \n",
    "# init_sims will make the model much more memory-efficient.\n",
    "model.init_sims(replace=True)"
   ]
  },
  {
   "cell_type": "code",
   "execution_count": null,
   "metadata": {
    "collapsed": true
   },
   "outputs": [],
   "source": [
    "# save model\n",
    "model_name = \"w2v_{}_size{}_mincount{}_window{}\".format(corpus_name, size, min_count, window)\n",
    "model.save(model_name)"
   ]
  },
  {
   "cell_type": "markdown",
   "metadata": {},
   "source": [
    "# Test Word2Vec Model"
   ]
  },
  {
   "cell_type": "code",
   "execution_count": null,
   "metadata": {
    "collapsed": true
   },
   "outputs": [],
   "source": [
    "# load model\n",
    "model = gensim.models.Word2Vec.load(model_name)"
   ]
  },
  {
   "cell_type": "code",
   "execution_count": null,
   "metadata": {
    "collapsed": true
   },
   "outputs": [],
   "source": [
    "model.most_similar(positive=['woman', 'king'], negative=['man'], topn=1)\n",
    "model.doesnt_match(\"breakfast cereal dinner lunch\";.split())\n",
    "model.similarity('woman', 'man')"
   ]
  },
  {
   "cell_type": "code",
   "execution_count": 19,
   "metadata": {
    "ExecuteTime": {
     "end_time": "2017-04-28T12:18:30.365989",
     "start_time": "2017-04-28T12:18:30.358989"
    },
    "collapsed": false
   },
   "outputs": [
    {
     "data": {
      "text/plain": [
       "(2, 200)"
      ]
     },
     "execution_count": 19,
     "metadata": {},
     "output_type": "execute_result"
    }
   ],
   "source": [
    "# sentence to tensor\n",
    "model[['brown', 'fox']].shape"
   ]
  },
  {
   "cell_type": "code",
   "execution_count": 23,
   "metadata": {
    "ExecuteTime": {
     "end_time": "2017-04-28T14:48:40.821946",
     "start_time": "2017-04-28T14:48:40.817945"
    },
    "collapsed": false
   },
   "outputs": [
    {
     "data": {
      "text/plain": [
       "FreqDist({'A': 4,\n",
       "          'An': 1,\n",
       "          'May': 1,\n",
       "          'a': 1,\n",
       "          'alpaca': 2,\n",
       "          'an': 1,\n",
       "          'and': 1,\n",
       "          'brown': 4,\n",
       "          'deep': 1,\n",
       "          'dog': 1,\n",
       "          'dreamless': 1,\n",
       "          'duck': 1,\n",
       "          'eating': 1,\n",
       "          'elephant': 3,\n",
       "          'fox': 3,\n",
       "          'grass': 1,\n",
       "          'green': 2,\n",
       "          'in': 1,\n",
       "          'is': 1,\n",
       "          'jump': 1,\n",
       "          'jumped': 3,\n",
       "          'lazy': 2,\n",
       "          'near': 1,\n",
       "          'on': 3,\n",
       "          'over': 1,\n",
       "          'rest': 1,\n",
       "          'slumber': 1,\n",
       "          'the': 4,\n",
       "          'to': 1,\n",
       "          'tried': 1,\n",
       "          'you': 1})"
      ]
     },
     "execution_count": 23,
     "metadata": {},
     "output_type": "execute_result"
    }
   ],
   "source": [
    "import nltk\n",
    "import itertools\n",
    "import collections\n",
    "nltk.FreqDist(itertools.chain(*[s.split() for s in sentences]))"
   ]
  },
  {
   "cell_type": "code",
   "execution_count": 24,
   "metadata": {
    "ExecuteTime": {
     "end_time": "2017-04-28T14:48:53.828690",
     "start_time": "2017-04-28T14:48:53.825689"
    },
    "collapsed": false
   },
   "outputs": [
    {
     "data": {
      "text/plain": [
       "Counter({'A': 4,\n",
       "         'An': 1,\n",
       "         'May': 1,\n",
       "         'a': 1,\n",
       "         'alpaca': 2,\n",
       "         'an': 1,\n",
       "         'and': 1,\n",
       "         'brown': 4,\n",
       "         'deep': 1,\n",
       "         'dog': 1,\n",
       "         'dreamless': 1,\n",
       "         'duck': 1,\n",
       "         'eating': 1,\n",
       "         'elephant': 3,\n",
       "         'fox': 3,\n",
       "         'grass': 1,\n",
       "         'green': 2,\n",
       "         'in': 1,\n",
       "         'is': 1,\n",
       "         'jump': 1,\n",
       "         'jumped': 3,\n",
       "         'lazy': 2,\n",
       "         'near': 1,\n",
       "         'on': 3,\n",
       "         'over': 1,\n",
       "         'rest': 1,\n",
       "         'slumber': 1,\n",
       "         'the': 4,\n",
       "         'to': 1,\n",
       "         'tried': 1,\n",
       "         'you': 1})"
      ]
     },
     "execution_count": 24,
     "metadata": {},
     "output_type": "execute_result"
    }
   ],
   "source": [
    "collections.Counter(itertools.chain(*[s.split() for s in sentences]))"
   ]
  },
  {
   "cell_type": "code",
   "execution_count": null,
   "metadata": {
    "collapsed": true
   },
   "outputs": [],
   "source": [
    ""
   ]
  }
 ],
 "metadata": {
  "anaconda-cloud": {},
  "kernelspec": {
   "display_name": "Python [default]",
   "language": "python",
   "name": "python3"
  },
  "language_info": {
   "codemirror_mode": {
    "name": "ipython",
    "version": 3.0
   },
   "file_extension": ".py",
   "mimetype": "text/x-python",
   "name": "python",
   "nbconvert_exporter": "python",
   "pygments_lexer": "ipython3",
   "version": "3.4.5"
  },
  "toc": {
   "colors": {
    "hover_highlight": "#DAA520",
    "running_highlight": "#FF0000",
    "selected_highlight": "#FFD700"
   },
   "moveMenuLeft": true,
   "nav_menu": {
    "height": "86px",
    "width": "252px"
   },
   "navigate_menu": true,
   "number_sections": true,
   "sideBar": true,
   "threshold": 4.0,
   "toc_cell": false,
   "toc_section_display": "block",
   "toc_window_display": false
  }
 },
 "nbformat": 4,
 "nbformat_minor": 0
}